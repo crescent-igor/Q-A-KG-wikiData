{
 "cells": [
  {
   "cell_type": "code",
   "execution_count": 2,
   "metadata": {},
   "outputs": [],
   "source": [
    "import requests \n",
    "import time\n",
    "from bs4 import BeautifulSoup "
   ]
  },
  {
   "cell_type": "code",
   "execution_count": 3,
   "metadata": {},
   "outputs": [],
   "source": [
    "url = 'https://en.wikipedia.org/wiki/Lionel_Messi' \n",
    "response = requests.get(url)\n",
    "soup = BeautifulSoup(response.text, 'html.parser') "
   ]
  },
  {
   "cell_type": "code",
   "execution_count": 8,
   "metadata": {},
   "outputs": [
    {
     "data": {
      "text/plain": [
       "[\"– Newell's Old Boys youth coach Adrián Coria shares his first impression of the 12-year-old Messi.[15]\\n\",\n",
       " 'A lifelong supporter of Newell\\'s Old Boys, Messi joined the Rosario club when he was six years old. During the six years he played for Newell\\'s, he scored almost 500 goals as a member of \"The Machine of \\'87\", the near-unbeatable youth side named for the year of their birth, and regularly entertained crowds by performing ball tricks during half-time of the first team\\'s home games.[16][17] However, his future as a professional player was threatened when, at age 10, he was diagnosed with a growth hormone deficiency. As his father\\'s health insurance covered only two years of growth hormone treatment, which cost at least $1,000 per month, Newell\\'s agreed to contribute, but later reneged on their promise.[18] He was scouted by Buenos Aires club River Plate, whose playmaker, Pablo Aimar, he idolised, but they were also unable to pay for his treatment due to Argentina\\'s economic collapse.[19][20] His goalscoring idol growing up was Ronaldo, with Messi calling him \"the best forward I\\'ve ever seen\".[21]\\n',\n",
       " \"As the Messi family had relatives in Catalonia, they sought to arrange a trial with Barcelona in September 2000. First team director Charly Rexach immediately wanted to sign him, but the board of directors hesitated; at the time it was highly unusual for European clubs to sign foreign players of such a young age. On 14 December, an ultimatum was issued for Barcelona to prove their commitment, and Rexach, with no other paper at hand, offered a contract on a paper napkin.[19][22] In February 2001, the family relocated to Barcelona, where they moved into an apartment near the club's stadium, Camp Nou. During his first year in Spain, Messi rarely played with the Infantiles due to a transfer conflict with Newell's; as a foreigner, he could only be fielded in friendlies and the Catalan league. Without football, he struggled to integrate into the team; already reserved by nature, he was so quiet that his teammates initially believed he was mute. At home, he suffered from homesickness after his mother moved back to Rosario with his brothers and little sister, María Sol, while he stayed in Barcelona with his father.[16][22][23]\\n\",\n",
       " 'After a year at Barcelona\\'s youth academy, La Masia, Messi was finally enrolled in the Royal Spanish Football Federation (RFEF) in February 2002. Now playing in all competitions, he befriended his teammates, among whom were Cesc Fàbregas and Gerard Piqué.[24] After completing his growth hormone treatment aged 14,[25] Messi became an integral part of the \"Baby Dream Team\", Barcelona\\'s greatest-ever youth side. During his first full season (2002–03), he was top scorer with 36 goals in 30 games for the Cadetes A, who won an unprecedented treble of the league and both the Spanish and Catalan cups.[24][26] The Copa Catalunya final, a 4–1 victory over Espanyol, became known in club lore as the partido de la máscara, the final of the mask. A week after suffering a broken cheekbone during a league match, Messi was allowed to start the game on the condition that he wear a plastic protector; soon hindered by the mask, he took it off and scored two goals in 10 minutes before his substitution.[27] At the close of the season, he received an offer to join Arsenal, his first from a foreign club, but while Fàbregas and Piqué soon left for England, he chose to remain in Barcelona.[22][28][29]\\n',\n",
       " \"– Barcelona's then assistant coach Henk Ten Cate on Messi's first-team debut.[30]\\n\"]"
      ]
     },
     "execution_count": 8,
     "metadata": {},
     "output_type": "execute_result"
    }
   ],
   "source": [
    "list = []\n",
    "for i in soup.select('p'):\n",
    "    list.append(i.getText())\n",
    "#     print(i.getText())\n",
    "list[10:15]"
   ]
  },
  {
   "cell_type": "code",
   "execution_count": 9,
   "metadata": {},
   "outputs": [
    {
     "data": {
      "text/plain": [
       "['\\n',\n",
       " 'Born and raised in central Argentina, Messi relocated to Spain to join Barcelona at age 13, for whom he made his competitive debut aged 17 in October 2004',\n",
       " \" He established himself as an integral player for the club within the next three years, and in his first uninterrupted season in 2008–09 he helped Barcelona achieve the first treble in Spanish football; that year, aged 22, Messi won his first Ballon d'Or\",\n",
       " \" Three successful seasons followed, with Messi winning four consecutive Ballons d'Or, making him the first player to win the award four times and in a row\",\n",
       " \"[9] During the 2011–12 season, he set the La Liga and European records for most goals scored in a single season, while establishing himself as Barcelona's all-time top scorer\"]"
      ]
     },
     "execution_count": 9,
     "metadata": {},
     "output_type": "execute_result"
    }
   ],
   "source": [
    "sentences = []\n",
    "for i in list:\n",
    "    l = i.split('.')\n",
    "    for j in l:\n",
    "        sentences.append(j)\n",
    "sentences[10:15]"
   ]
  },
  {
   "cell_type": "code",
   "execution_count": 10,
   "metadata": {},
   "outputs": [
    {
     "data": {
      "text/plain": [
       "[\" The following two seasons, Messi finished second for the Ballon d'Or behind Cristiano Ronaldo (his perceived career rival), before regaining his best form during the 2014–15 campaign, becoming the all-time top scorer in La Liga and leading Barcelona to a historic second treble, after which he was awarded a fifth Ballon d'Or in 2015\",\n",
       " \" Messi assumed the captaincy of Barcelona in 2018, and in 2019 he secured a record sixth Ballon d'Or\",\n",
       " \"An Argentine international, Messi is his country's all-time leading goalscorer\",\n",
       " ' At youth level, he won the 2005 FIFA World Youth Championship, finishing the tournament with both the Golden Ball and Golden Shoe, and an Olympic gold medal at the 2008 Summer Olympics',\n",
       " ' His style of play as a diminutive, left-footed dribbler drew comparisons with his compatriot Diego Maradona, who described Messi as his successor']"
      ]
     },
     "execution_count": 10,
     "metadata": {},
     "output_type": "execute_result"
    }
   ],
   "source": [
    "for i in sentences:\n",
    "    count = 0\n",
    "    for j in i:\n",
    "        if(j==\" \"):\n",
    "            count = count+1\n",
    "    if(count<3):\n",
    "        sentences.remove(i)\n",
    "sentences[10:15]"
   ]
  },
  {
   "cell_type": "code",
   "execution_count": null,
   "metadata": {},
   "outputs": [],
   "source": []
  }
 ],
 "metadata": {
  "kernelspec": {
   "display_name": "Python 3",
   "language": "python",
   "name": "python3"
  },
  "language_info": {
   "codemirror_mode": {
    "name": "ipython",
    "version": 3
   },
   "file_extension": ".py",
   "mimetype": "text/x-python",
   "name": "python",
   "nbconvert_exporter": "python",
   "pygments_lexer": "ipython3",
   "version": "3.8.2"
  }
 },
 "nbformat": 4,
 "nbformat_minor": 4
}
