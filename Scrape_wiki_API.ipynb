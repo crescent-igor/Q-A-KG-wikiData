{
 "cells": [
  {
   "cell_type": "code",
   "execution_count": 79,
   "metadata": {},
   "outputs": [
    {
     "name": "stderr",
     "output_type": "stream",
     "text": [
      "[nltk_data] Downloading package wordnet to /home/amrit/nltk_data...\n",
      "[nltk_data]   Package wordnet is already up-to-date!\n"
     ]
    }
   ],
   "source": [
    "import nltk\n",
    "nltk.download('wordnet')\n",
    "from nltk.corpus import wordnet\n",
    "import spacy\n",
    "from spacy import displacy\n",
    "nlp = spacy.load('en_core_web_sm')\n",
    "\n",
    "from spacy.matcher import Matcher \n",
    "from spacy.tokens import Span \n",
    "from tqdm import tqdm\n",
    "import wikipedia\n",
    "import wikipediaapi"
   ]
  },
  {
   "cell_type": "code",
   "execution_count": 7,
   "metadata": {},
   "outputs": [],
   "source": [
    "syns = wordnet.synsets(\"program\")"
   ]
  },
  {
   "cell_type": "code",
   "execution_count": 8,
   "metadata": {},
   "outputs": [
    {
     "name": "stdout",
     "output_type": "stream",
     "text": [
      "plan\n",
      "program\n",
      "broadcast\n",
      "platform\n",
      "program\n",
      "course_of_study\n",
      "program\n",
      "program\n",
      "program\n",
      "program\n"
     ]
    }
   ],
   "source": [
    "for i in syns:\n",
    "    print(i.lemmas()[0].name())"
   ]
  },
  {
   "cell_type": "code",
   "execution_count": 13,
   "metadata": {},
   "outputs": [],
   "source": [
    "def get_entities(sent):\n",
    " \n",
    "  ent1 = \"\"\n",
    "  ent2 = \"\"\n",
    "\n",
    "  prv_tok_dep = \"\"    \n",
    "  prv_tok_text = \"\"   \n",
    "\n",
    "  prefix = \"\"\n",
    "  modifier = \"\"\n",
    "  \n",
    "  for tok in nlp(sent):\n",
    "    if tok.dep_ != \"punct\":\n",
    "      if tok.dep_ == \"compound\":\n",
    "        prefix = tok.text\n",
    "        if prv_tok_dep == \"compound\":\n",
    "          prefix = prv_tok_text + \" \"+ tok.text\n",
    "      \n",
    "      if tok.dep_.endswith(\"mod\") == True:\n",
    "        modifier = tok.text\n",
    "        if prv_tok_dep == \"compound\":\n",
    "          modifier = prv_tok_text + \" \"+ tok.text\n",
    "      \n",
    "      if tok.dep_.find(\"subj\") == True:\n",
    "        ent1 = modifier +\" \"+ prefix + \" \"+ tok.text\n",
    "        prefix = \"\"\n",
    "        modifier = \"\"\n",
    "        prv_tok_dep = \"\"\n",
    "        prv_tok_text = \"\"      \n",
    "\n",
    "      if tok.dep_.find(\"obj\") == True:\n",
    "        ent2 = modifier +\" \"+ prefix +\" \"+ tok.text\n",
    "        \n",
    "      prv_tok_dep = tok.dep_\n",
    "      prv_tok_text = tok.text\n",
    " \n",
    "\n",
    "  return [ent1.strip(), ent2.strip()]"
   ]
  },
  {
   "cell_type": "code",
   "execution_count": 17,
   "metadata": {},
   "outputs": [],
   "source": [
    "def get_relation(sent):\n",
    "\n",
    "  doc = nlp(sent)\n",
    "\n",
    "  # Matcher class object \n",
    "  matcher = Matcher(nlp.vocab)\n",
    "\n",
    "  #define the pattern \n",
    "  pattern = [{'DEP':'ROOT'}, \n",
    "            {'DEP':'prep','OP':\"?\"},\n",
    "            {'DEP':'agent','OP':\"?\"},  \n",
    "            {'POS':'ADJ','OP':\"?\"},] \n",
    "\n",
    "  matcher.add(\"matching_1\", None, pattern) \n",
    "\n",
    "  matches = matcher(doc)\n",
    "  k = len(matches) - 1\n",
    "  if(k>0):\n",
    "    span = doc[matches[k][1]:matches[k][2]] \n",
    "    return(span.text)\n",
    "  "
   ]
  },
  {
   "cell_type": "code",
   "execution_count": 70,
   "metadata": {},
   "outputs": [],
   "source": [
    "sent=\"who was skilled at karate\"\n",
    "verb=get_relation(sent)\n",
    "actors=get_entities(sent)\n",
    "whwords = ['what', 'which', 'how', 'why', 'when', 'where', 'who']"
   ]
  },
  {
   "cell_type": "code",
   "execution_count": 72,
   "metadata": {},
   "outputs": [
    {
     "data": {
      "text/plain": [
       "'was skilled'"
      ]
     },
     "execution_count": 72,
     "metadata": {},
     "output_type": "execute_result"
    }
   ],
   "source": [
    "verb"
   ]
  },
  {
   "cell_type": "code",
   "execution_count": 73,
   "metadata": {},
   "outputs": [
    {
     "data": {
      "text/plain": [
       "'karate'"
      ]
     },
     "execution_count": 73,
     "metadata": {},
     "output_type": "execute_result"
    }
   ],
   "source": [
    "concept=\"\"\n",
    "if(actors[0] in whwords):\n",
    "    concept=actors[1]\n",
    "else:\n",
    "    concept=actors[0]\n",
    "concept"
   ]
  },
  {
   "cell_type": "code",
   "execution_count": 84,
   "metadata": {},
   "outputs": [],
   "source": [
    "search_results=wikipedia.search(concept, results=3)\n",
    "wiki_wiki = wikipediaapi.Wikipedia(language='en',extract_format=wikipediaapi.ExtractFormat.WIKI)\n",
    "p_wiki = wiki_wiki.page(search_results[0])\n",
    "text_data=p_wiki.text"
   ]
  },
  {
   "cell_type": "code",
   "execution_count": 87,
   "metadata": {},
   "outputs": [
    {
     "data": {
      "text/plain": [
       "[' In this era of escalating Japanese militarism, the name was changed from 唐手 (\"Chinese hand\" or \"Tang hand\") to 空手 (\"empty hand\") – both of which are pronounced karate in Japanese – to indicate that the Japanese wished to develop the combat form in Japanese style',\n",
       " ' After World War II, Okinawa became (1945) an important United States military site and karate became popular among servicemen stationed there',\n",
       " 'The martial-arts movies of the 1960s and 1970s served to greatly increase the popularity of martial arts around the world, and English-speakers began to use the word karate in a generic way to refer to all striking-based Asian martial arts',\n",
       " ' Karate schools began appearing across the world, catering to those with casual interest as well as those seeking a deeper study of the art',\n",
       " '\\nShigeru Egami, Chief Instructor of Shotokan Dōjō, opined that \"the majority of followers of karate in overseas countries pursue karate only for its fighting techniques ']"
      ]
     },
     "execution_count": 87,
     "metadata": {},
     "output_type": "execute_result"
    }
   ],
   "source": [
    "li=text_data.split(\".\")\n",
    "li[10:15]"
   ]
  },
  {
   "cell_type": "code",
   "execution_count": 88,
   "metadata": {},
   "outputs": [
    {
     "data": {
      "text/plain": [
       "[' In this era of escalating Japanese militarism, the name was changed from 唐手 (\"Chinese hand\" or \"Tang hand\") to 空手 (\"empty hand\") – both of which are pronounced karate in Japanese – to indicate that the Japanese wished to develop the combat form in Japanese style',\n",
       " ' After World War II, Okinawa became (1945) an important United States military site and karate became popular among servicemen stationed there',\n",
       " 'The martial-arts movies of the 1960s and 1970s served to greatly increase the popularity of martial arts around the world, and English-speakers began to use the word karate in a generic way to refer to all striking-based Asian martial arts',\n",
       " ' Karate schools began appearing across the world, catering to those with casual interest as well as those seeking a deeper study of the art',\n",
       " '\\nShigeru Egami, Chief Instructor of Shotokan Dōjō, opined that \"the majority of followers of karate in overseas countries pursue karate only for its fighting techniques ']"
      ]
     },
     "execution_count": 88,
     "metadata": {},
     "output_type": "execute_result"
    }
   ],
   "source": [
    "sentences = []\n",
    "for i in li:\n",
    "    l = i.split('.')\n",
    "    for j in l:\n",
    "        sentences.append(j)\n",
    "sentences[10:15]"
   ]
  }
 ],
 "metadata": {
  "kernelspec": {
   "display_name": "Python 3",
   "language": "python",
   "name": "python3"
  },
  "language_info": {
   "codemirror_mode": {
    "name": "ipython",
    "version": 3
   },
   "file_extension": ".py",
   "mimetype": "text/x-python",
   "name": "python",
   "nbconvert_exporter": "python",
   "pygments_lexer": "ipython3",
   "version": "3.8.2"
  }
 },
 "nbformat": 4,
 "nbformat_minor": 4
}
